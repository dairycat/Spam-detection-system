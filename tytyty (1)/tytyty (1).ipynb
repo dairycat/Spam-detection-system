{
 "cells": [
  {
   "cell_type": "code",
   "execution_count": 10,
   "id": "5398f13a",
   "metadata": {},
   "outputs": [],
   "source": [
    "import pandas as pd\n",
    "import numpy as np\n",
    "from collections import Counter\n",
    "from sklearn.model_selection import train_test_split"
   ]
  },
  {
   "cell_type": "code",
   "execution_count": 14,
   "id": "c4b09590",
   "metadata": {},
   "outputs": [],
   "source": [
    "train_path = pd.read_csv(\"messages_train.csv\")\n",
    "test_path = pd.read_csv(\"messages_test.csv\")"
   ]
  },
  {
   "cell_type": "code",
   "execution_count": null,
   "id": "e3d128e4",
   "metadata": {
    "scrolled": true
   },
   "outputs": [
    {
     "name": "stdout",
     "output_type": "stream",
     "text": [
      "[('the', 15158), ('and', 9291), ('for', 3786), ('you', 3131), ('that', 2497), ('this', 2210), ('are', 1876), ('with', 1819), ('language', 1738), ('will', 1696), ('university', 1663), ('from', 1448), ('your', 1429), ('have', 1283), ('not', 1134), ('linguistics', 947), ('all', 941), ('can', 853), ('one', 771), ('but', 745), ('which', 729), ('information', 705), ('conference', 666), ('english', 644), ('there', 642), ('more', 620), ('about', 614), ('mail', 611), ('languages', 609), ('new', 601), ('was', 599), ('has', 586), ('also', 584), ('any', 551), ('our', 545), ('address', 545), ('would', 543), ('please', 537), ('what', 537), ('out', 525), ('http', 523), ('other', 523), ('some', 521), ('edu', 514), ('they', 511), ('their', 502), ('how', 494), ('fax', 492), ('people', 490), ('only', 484), ('who', 475), ('papers', 462), ('research', 459), ('program', 441), ('order', 440), ('these', 432), ('name', 425), ('should', 423), ('send', 421), ('time', 409), ('linguistic', 405), ('www', 404), ('free', 398), ('list', 391), ('may', 391), ('like', 390), ('use', 390), ('email', 387), ('first', 384), ('work', 379), ('get', 367), ('report', 365), ('two', 357), ('com', 339), ('been', 339), ('make', 335), ('them', 327), ('now', 324), ('money', 324), ('web', 322), ('theory', 319), ('than', 316), ('following', 314), ('discourse', 310), ('number', 308), ('department', 307), ('registration', 293), ('just', 292), ('each', 290), ('such', 288), ('available', 287), ('many', 286), ('call', 286), ('workshop', 283), ('those', 280), ('form', 279), ('very', 279), ('links', 278), ('contact', 277), ('systems', 273), ('know', 269), ('business', 267), ('most', 267), ('when', 266), ('into', 258), ('book', 258), ('way', 257), ('internet', 256), ('between', 254), ('paper', 252), ('speech', 252), ('here', 251), ('analysis', 251), ('its', 249), ('international', 247), ('see', 246), ('john', 246), ('take', 245), ('does', 245), ('session', 245), ('had', 239), ('discussion', 239), ('world', 232), ('addresses', 231), ('over', 230), ('grammar', 230), ('well', 229), ('software', 227), ('syntax', 227), ('then', 226), ('were', 226), ('computer', 224), ('phone', 222), ('word', 219), ('second', 216), ('text', 215), ('could', 213), ('where', 210), ('etc', 207), ('system', 207), ('used', 205), ('directory', 204), ('usa', 204), ('include', 201), ('using', 199), ('different', 199), ('must', 197), ('want', 196), ('both', 196), ('case', 195), ('spanish', 195), ('even', 194), ('below', 194), ('site', 193), ('science', 192), ('receive', 191), ('words', 190), ('because', 189), ('acquisition', 189), ('including', 188), ('same', 186), ('check', 183), ('ffa', 183), ('before', 182), ('abstracts', 182), ('within', 180), ('day', 179), ('speakers', 179), ('further', 178), ('study', 178), ('human', 178), ('studies', 178), ('knowledge', 177), ('phonology', 177), ('after', 176), ('special', 174), ('sent', 174), ('need', 173), ('his', 173), ('semantics', 173), ('natural', 171), ('year', 170), ('being', 170), ('american', 170), ('press', 170), ('through', 169), ('japanese', 169), ('institute', 169), ('service', 168), ('received', 168), ('students', 168), ('much', 167), ('change', 167), ('mailing', 165), ('made', 165), ('general', 165), ('state', 164), ('chair', 164), ('least', 163), ('german', 163), ('find', 161), ('structure', 161), ('place', 159), ('part', 159), ('three', 159), ('type', 158), ('communication', 158), ('years', 157), ('processing', 157), ('own', 156), ('august', 156), ('questions', 155), ('data', 154), ('give', 153), ('york', 153), ('interested', 151), ('since', 150), ('issues', 150), ('html', 148), ('reports', 148), ('think', 148), ('section', 148), ('september', 148), ('invited', 148), ('tel', 148), ('subject', 146), ('home', 146), ('abstract', 146), ('cognitive', 146), ('break', 145), ('volume', 145), ('help', 144), ('center', 144), ('best', 143), ('possible', 143), ('french', 143), ('based', 142), ('translation', 142), ('course', 141), ('page', 141), ('read', 140), ('reference', 140), ('pages', 138), ('every', 138), ('interest', 138), ('social', 138), ('orders', 137), ('computational', 137), ('come', 136), ('box', 135), ('national', 135), ('technology', 134), ('days', 133), ('present', 133), ('point', 133), ('provide', 132), ('few', 132), ('experience', 132), ('development', 132), ('learning', 131), ('anyone', 131), ('society', 131), ('syntactic', 131), ('message', 130), ('while', 130), ('via', 130), ('say', 130), ('meaning', 130), ('did', 129), ('price', 129), ('cost', 129), ('let', 129), ('georgetown', 129), ('fee', 128), ('held', 128), ('lexical', 128), ('per', 127), ('credit', 127), ('making', 127), ('important', 127), ('example', 126), ('october', 126), ('sessions', 126), ('semantic', 126), ('teaching', 126), ('date', 125), ('another', 125), ('author', 125), ('letter', 124), ('why', 124), ('applications', 124), ('question', 123), ('working', 122), ('copy', 122), ('might', 122), ('back', 122), ('four', 122), ('thanks', 122), ('historical', 121), ('school', 120), ('position', 120), ('linguist', 120), ('several', 119), ('week', 119), ('content', 118), ('note', 118), ('opportunity', 118), ('march', 118), ('germany', 118), ('start', 117), ('names', 117), ('under', 116), ('participants', 116), ('washington', 116), ('offer', 115), ('full', 115), ('great', 115), ('today', 115), ('related', 115), ('title', 115), ('sign', 114), ('current', 114), ('modern', 114), ('morphology', 114), ('committee', 114), ('forms', 113), ('long', 113), ('less', 113), ('right', 113), ('mit', 113), ('european', 113), ('members', 112), ('again', 112), ('person', 111), ('linguists', 111), ('benjamins', 111), ('however', 110), ('particular', 110), ('references', 110), ('set', 109), ('version', 109), ('published', 109), ('good', 108), ('limited', 108), ('she', 108), ('field', 108), ('either', 107), ('methods', 107), ('level', 107), ('still', 107), ('programme', 107), ('others', 106), ('topics', 106), ('college', 106), ('last', 105), ('electronic', 105), ('little', 105), ('major', 105), ('given', 105), ('writing', 105), ('journal', 105), ('introduction', 105), ('examples', 105), ('complete', 104), ('follow', 104), ('better', 104), ('area', 104), ('lunch', 104), ('david', 104), ('theoretical', 104), ('city', 103), ('programs', 103), ('sure', 103), ('student', 103), ('affiliation', 103), ('applied', 102), ('life', 102), ('education', 102), ('hotel', 102), ('aspects', 102), ('written', 101), ('areas', 101), ('remove', 100), ('group', 100), ('functional', 100), ('july', 100), ('verb', 100), ('really', 99), ('card', 99), ('old', 99), ('above', 99), ('reading', 99), ('focus', 99), ('texts', 99), ('down', 98), ('never', 98), ('context', 98), ('phonological', 98), ('plus', 97), ('future', 97), ('california', 97), ('until', 97), ('formal', 97), ('approach', 96), ('meeting', 96), ('works', 95), ('details', 94), ('easy', 94), ('account', 94), ('various', 94), ('der', 94), ('eds', 94), ('simply', 93), ('too', 93), ('project', 93), ('submission', 93), ('next', 92), ('found', 92), ('main', 92), ('coffee', 92), ('books', 92), ('history', 92), ('without', 91), ('already', 91), ('something', 91), ('paul', 91), ('proceedings', 91), ('professor', 91), ('evidence', 91), ('income', 90), ('lists', 90), ('weeks', 90), ('whether', 90), ('spoken', 90), ('deadline', 90), ('van', 90), ('fact', 89), ('thank', 89), ('minutes', 89), ('submissions', 89), ('chinese', 89), ('und', 89), ('believe', 88), ('real', 88), ('net', 87), ('million', 87), ('product', 87), ('problem', 87), ('original', 87), ('topic', 87), ('recent', 87), ('always', 86), ('write', 86), ('north', 86), ('june', 86), ('issue', 86), ('together', 86), ('role', 86), ('required', 85), ('process', 85), ('personal', 85), ('marketing', 85), ('looking', 85), ('series', 85), ('financial', 85), ('academic', 85), ('ftp', 85), ('association', 84), ('able', 84), ('specific', 84), ('summary', 84), ('visit', 83), ('means', 83), ('end', 83), ('dept', 83), ('early', 83), ('approaches', 83), ('grammatical', 83), ('teachers', 83), ('standard', 82), ('put', 82), ('copies', 82), ('des', 82), ('relevant', 82), ('cultural', 82), ('south', 81), ('canada', 81), ('return', 81), ('children', 81), ('robert', 81), ('russian', 81), ('cambridge', 81), ('simple', 80), ('show', 80), ('look', 80), ('rather', 80), ('mark', 80), ('additional', 79), ('seems', 79), ('les', 79), ('april', 79), ('constructions', 79), ('japan', 79), ('search', 78), ('pay', 78), ('click', 78), ('line', 78), ('yet', 78), ('off', 78), ('review', 78), ('past', 78), ('london', 78), ('dictionary', 78), ('chapter', 78), ('prof', 78), ('cash', 77), ('instructions', 77), ('live', 77), ('post', 77), ('features', 77), ('talk', 77), ('foreign', 77), ('native', 77), ('gender', 77), ('machine', 76), ('length', 76), ('local', 76), ('office', 76), ('company', 75), ('services', 75), ('mind', 75), ('friday', 75), ('authors', 75), ('february', 75), ('wide', 74), ('final', 74), ('response', 74), ('usd', 74), ('due', 74), ('vol', 74), ('centre', 74), ('plenary', 74), ('vowel', 74), ('access', 73), ('support', 73), ('soon', 73), ('code', 73), ('direct', 73), ('interesting', 73), ('peter', 73), ('literature', 73), ('variation', 73), ('query', 73), ('theme', 73), ('parallel', 73), ('though', 72), ('hours', 72), ('got', 72), ('submit', 72), ('package', 72), ('server', 72), ('america', 72), ('far', 72), ('application', 72), ('non', 72), ('texas', 72), ('interaction', 72), ('representation', 72), ('speaker', 72), ('logic', 72), ('directly', 71), ('bulk', 71), ('total', 71), ('view', 71), ('later', 71), ('accepted', 71), ('family', 71), ('bank', 71), ('her', 71), ('music', 71), ('pragmatics', 71), ('info', 70), ('technical', 70), ('open', 70), ('payment', 70), ('initial', 70), ('object', 70), ('construction', 70), ('once', 69), ('telephone', 69), ('said', 69), ('problems', 69), ('researchers', 69), ('phonetics', 69), ('culture', 69), ('wish', 68), ('success', 68), ('understand', 68), ('file', 68), ('letters', 68), ('remember', 68), ('during', 68), ('large', 67), ('sense', 67), ('answer', 67), ('includes', 67), ('saturday', 67), ('sex', 67), ('netherlands', 67), ('oxford', 67), ('index', 66), ('term', 66), ('become', 66), ('single', 66), ('around', 66), ('participate', 66), ('legal', 66), ('responses', 66), ('someone', 66), ('link', 66), ('sentence', 66), ('iii', 66), ('advertising', 65), ('sound', 65), ('basis', 65), ('add', 65), ('although', 65), ('ever', 65), ('short', 65), ('going', 65), ('request', 65), ('publications', 65), ('friends', 65), ('intelligence', 65), ('rules', 65), ('among', 65), ('models', 65), ('november', 65), ('interpretation', 65), ('times', 64), ('tell', 64), ('done', 64), ('rest', 64), ('ago', 64), ('man', 64), ('articles', 64), ('michael', 64), ('hall', 64), ('article', 64), ('patterns', 64), ('workshops', 64), ('accommodation', 64), ('paris', 64), ('results', 63), ('probably', 63), ('url', 63), ('advanced', 63), ('susan', 63), ('relevance', 63), ('france', 63), ('month', 62), ('lot', 62), ('true', 62), ('across', 62), ('small', 62), ('try', 62), ('considered', 62), ('register', 62), ('feature', 62), ('philosophy', 62), ('range', 62), ('presented', 62), ('step', 61), ('everyone', 61), ('rate', 61), ('january', 61), ('terms', 61), ('contains', 61), ('posted', 61), ('isbn', 61), ('ling', 61), ('korean', 61), ('amsterdam', 61), ('verbs', 61), ('print', 60), ('him', 60), ('ordering', 60), ('certain', 60), ('common', 60), ('things', 60), ('nothing', 60), ('thing', 60), ('called', 60), ('quite', 60), ('status', 60), ('conceptual', 60), ('humanities', 60), ('matter', 59), ('sources', 59), ('third', 59), ('included', 59), ('presentation', 59), ('constraints', 59), ('structures', 59), ('edinburgh', 59), ('pronouns', 59), ('women', 58), ('kind', 58), ('immediately', 58), ('doing', 58), ('towards', 58), ('control', 58), ('fees', 58), ('perhaps', 58), ('thus', 58), ('summer', 58), ('welcome', 58), ('james', 58), ('comparative', 58), ('lexicon', 58), ('universite', 58), ('universal', 58), ('files', 57), ('online', 57), ('buy', 57), ('high', 57), ('background', 57), ('europe', 57), ('plan', 57), ('cases', 57), ('england', 57), ('techniques', 57), ('thursday', 57), ('variety', 57), ('understanding', 57), ('phonetic', 57), ('movement', 57), ('organizer', 57), ('berlin', 57), ('reduplication', 57), ('org', 56), ('hour', 56), ('offers', 56), ('design', 56), ('previous', 56), ('announcement', 56), ('individual', 56), ('seminar', 56), ('negation', 56), ('vowels', 56), ('save', 55), ('publication', 55), ('hard', 55), ('thousands', 55), ('else', 55), ('market', 55), ('period', 55), ('amount', 55), ('reply', 55), ('news', 55), ('hand', 55), ('asked', 55), ('perspective', 55), ('dialect', 55), ('computing', 55), ('basque', 55), ('basic', 54), ('ability', 54), ('thought', 54), ('class', 54), ('anything', 54), ('professional', 54), ('seem', 54), ('tools', 54), ('room', 54), ('nature', 54), ('editor', 54), ('submitted', 54), ('processes', 54), ('theories', 54), ('artificial', 54), ('enough', 53), ('dollars', 53), ('membership', 53), ('materials', 53), ('reason', 53), ('attention', 53), ('organization', 53), ('especially', 53), ('travel', 53), ('mean', 53), ('los', 53), ('effects', 53), ('cloth', 53), ('martin', 53), ('manchester', 53), ('psychology', 53), ('format', 52), ('united', 52), ('source', 52), ('similar', 52), ('latest', 52), ('publishing', 52), ('lee', 52), ('campus', 52), ('morphological', 52), ('users', 51), ('away', 51), ('started', 51), ('street', 51), ('learn', 51), ('upon', 51), ('country', 51), ('annual', 51), ('description', 51), ('event', 51), ('italy', 51), ('database', 51), ('century', 51), ('contributions', 51), ('interface', 51), ('phrase', 51), ('graduate', 51), ('developments', 51), ('whorf', 51), ('htm', 50), ('member', 50), ('states', 50), ('postal', 50), ('dear', 50), ('provided', 50), ('five', 50), ('stanford', 50), ('material', 50), ('tutorials', 50), ('selected', 50), ('space', 50), ('comments', 50), ('wednesday', 50), ('australia', 50), ('latin', 50), ('generative', 50), ('symposium', 50), ('products', 49), ('sales', 49), ('join', 49), ('aol', 49), ('along', 49), ('seen', 49), ('multiple', 49), ('developed', 49), ('public', 49), ('hope', 49), ('actually', 49), ('currency', 49), ('keep', 49), ('ways', 49), ('west', 49), ('regular', 49), ('december', 49), ('est', 49), ('building', 49), ('greek', 49), ('anonymous', 49), ('narrative', 49), ('william', 49), ('jan', 49), ('properties', 49), ('corpus', 49), ('pacific', 49), ('happy', 48), ('share', 48), ('mexico', 48), ('method', 48), ('cannot', 48), ('community', 48), ('cover', 48), ('richard', 48), ('negative', 48), ('opening', 48), ('speaking', 48), ('often', 48), ('verbal', 48), ('top', 47), ('potential', 47), ('acceptance', 47), ('guarantee', 47), ('left', 47), ('continue', 47), ('idea', 47), ('changes', 47), ('edition', 47), ('latex', 47), ('programming', 47), ('capitalfm', 47), ('aspect', 47), ('categories', 47), ('conversation', 47), ('germanic', 47), ('presentations', 47), ('website', 46), ('successful', 46), ('big', 46), ('necessary', 46), ('exactly', 46), ('finally', 46), ('longer', 46), ('monday', 46), ('track', 46), ('numbers', 46), ('participation', 46), ('mentioned', 46), ('addition', 46), ('provides', 46), ('sentences', 46), ('appear', 46), ('korea', 46), ('dutch', 46), ('apply', 45), ('types', 45), ('listed', 45), ('job', 45), ('paid', 45), ('ask', 45), ('advance', 45), ('advantage', 45), ('involved', 45), ('men', 45), ('whole', 45), ('middle', 45), ('collection', 45), ('evaluation', 45), ('style', 45), ('phrases', 45), ('proposals', 45), ('complex', 45), ('messages', 44), ('user', 44), ('checks', 44), ('traditional', 44), ('accept', 44), ('extra', 44), ('uses', 44), ('allow', 44), ('risk', 44), ('tutorial', 44), ('ems', 44), ('loss', 44), ('appropriate', 44), ('san', 44), ('came', 44), ('late', 44), ('detailed', 44), ('particularly', 44), ('preferred', 44), ('sounds', 44), ('engineering', 44), ('principles', 44), ('lecture', 44), ('sciences', 44), ('arabic', 44), ('pennsylvania', 44), ('austin', 44), ('maria', 44), ('univ', 44), ('deaf', 44), ('ipa', 44), ('nlp', 44), ('themselves', 43), ('getting', 43), ('strategies', 43), ('makes', 43), ('organized', 43), ('payable', 43), ('events', 43), ('deal', 43), ('road', 43), ('notification', 43), ('almost', 43), ('contents', 43), ('asian', 43), ('comparison', 43), ('pounds', 43), ('barbara', 43), ('notion', 43), ('representations', 43), ('tense', 43), ('consonant', 43), ('panel', 43), ('genetic', 43), ('everything', 42), ('forum', 42), ('hundreds', 42), ('yes', 42), ('shipping', 42), ('manual', 42), ('months', 42), ('practical', 42), ('yourself', 42), ('ready', 42)]\n",
      "[<generator object <genexpr> at 0x000002A25EB26BA0>]\n"
     ]
    }
   ],
   "source": [
    "def EstablishDictionary(train):\n",
    "    message  = train['message'] #获取名字为message列的数据\n",
    "    message_list = message.values.tolist()#将csv文件中message列中的数据保存到列表中\n",
    "    all_words = []\n",
    "    for mes in message_list:\n",
    "        words=mes.split()\n",
    "        all_words+=words\n",
    "    dictionary = Counter(all_words)  \n",
    "    dictionary2 = dictionary.keys()\n",
    "    for word in list(dictionary2):#设置去除常见的字\n",
    "        if word.isalpha() == False: del dictionary[word]\n",
    "        elif len(word) == 1:    del dictionary[word]   \n",
    "        elif len(word) == 2:    del dictionary[word]   \n",
    "        elif len(word) >= 16:    del dictionary[word]  # 16可改为18,20等\n",
    "    dictionary = dictionary.most_common(1000)   \n",
    "    return dictionary\n",
    "dictionary = EstablishDictionary(train_path)\n",
    "print(dictionary)\n",
    "\n",
    "\n",
    "def EstablishDictionary_iter(train,a):\n",
    "    message  = train['message'] #获取名字为message列的数据\n",
    "    message_list = message.values.tolist()#将csv文件中message列中的数据保存到列表中\n",
    "    all_words = []\n",
    "    for mes in message_list:\n",
    "        words=mes.split()\n",
    "        all_words+=words\n",
    "    dictionary = Counter(all_words)  \n",
    "    dictionary2 = dictionary.keys()\n",
    "    for word in list(dictionary2):#设置去除常见的字\n",
    "        if word.isalpha() == False: del dictionary[word]\n",
    "        elif len(word) == 1:    del dictionary[word]   \n",
    "        elif len(word) == 2:    del dictionary[word] \n",
    "        elif len(word) >= 16:    del dictionary[word]  # 16可改为18,20等\n",
    "    dictionary = dictionary.most_common(a)   \n",
    "    return dictionary\n",
    "dictionary_iter=[]\n",
    "dictionary_iter.append( EstablishDictionary_iter(df, ii) for ii in range(1000,2050,50))   # 这里尚未测试，目标是二维列表对应555\n",
    "print(dictionary_iter)\n",
    "\n",
    "\n",
    "def analyse_characters(df):  # 特征分析(不可循环版)(括号内删除，df为pandas导入的messages.csv)\n",
    "    chars_matrix = np.zeros((len(df),1000))  # 特征矩阵 初始化为0，len(df)为行 代表邮件封数，1000代表词典关键词大小\n",
    "    ccc = 0;  # 每读取一封邮件便+1\n",
    "    for x in df['message']:  # x = 邮件内容\n",
    "        words = x.split()  # 分割内容中的每个单词合并成一个列表\n",
    "        for word in words:  # 对列表中每个单词\n",
    "            for index,d in enumerate(dictionary):  # 词典(linenum为序号，d为 (单词,单词次数) )\n",
    "                if d[0] == word:  # 若这个单词与词典中的词相同\n",
    "                    chars_matrix[ccc,index] = words.count(word)  # 调用count方法统计word的个数并赋值给特征矩阵对应位置\n",
    "        ccc += 1  # 每读取一封邮件便+1\n",
    "    return chars_matrix  # 返回特征矩阵\n",
    "\n",
    "\n",
    "def analyse_characters_iter(df, ai, b):  # 特征分析(可循环版)(括号内删除，df为pandas导入的messages.csv, b为迭代词典序号1000,1050记为0,1等)\n",
    "    chars_matrix = np.zeros((len(df), ai))  # 特征矩阵 初始化为0，len(df)为行 代表邮件封数，参数ai代表词典关键词大小\n",
    "    ccc = 0;  # 每读取一封邮件便+1\n",
    "    for x in df['message']:  # x = 邮件内容\n",
    "        words = x.split()  # 分割内容中的每个单词合并成一个列表\n",
    "        for word in words:  # 对列表中每个单词\n",
    "            for index,d in enumerate(dictionary_iter[b]):  # 词典(index为序号，d为 (单词,单词次数) )            555\n",
    "                if d[0] == word:  # 若这个单词与词典中的词相同\n",
    "                    chars_matrix[ccc,index] = words.count(word)  # 调用count方法统计word的个数并赋值给特征矩阵对应位置\n",
    "        ccc += 1  # 每读取一封邮件便+1\n",
    "    return chars_matrix  # 返回特征矩阵\n",
    "# 为每一封邮件和标签准备特征向量\n",
    "\n",
    "\n",
    "\n",
    "\n",
    "\n",
    "y_train = np.zeros(800)\n",
    "y_train[1:136] = 1\n",
    "y_test=np.zeros(200)\n",
    "y_test[1:28] = 1 \n",
    "X_train = analyse_characters(train_path)\n",
    "# Test the unseen mails for Spam               \n",
    "X_test = analyse_characters(test_path)\n",
    "\n",
    "\n",
    "\n",
    "\n"
   ]
  },
  {
   "cell_type": "code",
   "execution_count": null,
   "id": "744e324b",
   "metadata": {},
   "outputs": [
    {
     "ename": "",
     "evalue": "",
     "output_type": "error",
     "traceback": [
      "\u001b[1;31mRunning cells with 'c:\\Users\\ASUS\\AppData\\Local\\Programs\\Python\\Python311\\python.exe' requires ipykernel package.\n",
      "\u001b[1;31mRun the following command to install 'ipykernel' into the Python environment. \n",
      "\u001b[1;31mCommand: 'c:/Users/ASUS/AppData/Local/Programs/Python/Python311/python.exe -m pip install ipykernel -U --user --force-reinstall'"
     ]
    }
   ],
   "source": []
  }
 ],
 "metadata": {
  "kernelspec": {
   "display_name": "Python 3 (ipykernel)",
   "language": "python",
   "name": "python3"
  },
  "language_info": {
   "codemirror_mode": {
    "name": "ipython",
    "version": 3
   },
   "file_extension": ".py",
   "mimetype": "text/x-python",
   "name": "python",
   "nbconvert_exporter": "python",
   "pygments_lexer": "ipython3",
   "version": "3.9.12"
  },
  "vscode": {
   "interpreter": {
    "hash": "318f2c383d48220c821fefd227250c35bb828f95042f5889a5ad1704b1baf79c"
   }
  }
 },
 "nbformat": 4,
 "nbformat_minor": 5
}
